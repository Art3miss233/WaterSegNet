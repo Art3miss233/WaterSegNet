{
 "cells": [
  {
   "cell_type": "markdown",
   "metadata": {},
   "source": [
    "## Metrics\n"
   ]
  },
  {
   "cell_type": "code",
   "execution_count": 1,
   "metadata": {},
   "outputs": [],
   "source": [
    "import torchmetrics\n",
    "from pathlib import Path\n",
    "\n",
    "import datetime\n",
    "from lib.dataloader import *\n",
    "\n",
    "\n",
    "# Directory paths for semantic segmentation dataset\n",
    "root_dir = Path(\"/home/emilia/WaterSegNet/datasets/complete_dataset/\")\n",
    "test_root = Path(\"/home/emilia/WaterSegNet/datasets/uav_dataset/\")\n",
    "dir_test_img = test_root / \"test/images\"\n",
    "dir_test_mask = test_root / \"test/labels\"\n",
    "dir_train_img = root_dir / \"train/images\"\n",
    "dir_train_mask = root_dir / \"train/labels\"\n",
    "dir_valid_img = root_dir / \"valid/images\"\n",
    "dir_valid_mask = root_dir / \"valid/labels\"\n",
    "\n",
    "# Directory paths for checkpoints and best models\n",
    "dir_checkpoint = root_dir / \"checkpoints/\"\n",
    "dir_best_model = root_dir / \"best_models/\"\n",
    "dir_best_model /= datetime.datetime.now().strftime(\"%d-%m-%Y-%H-%M\")\n",
    "\n",
    "\n",
    "train_set = SegDataset(dir_train_img, dir_train_mask)\n",
    "valid_set = SegDataset(dir_valid_img, dir_valid_mask)\n",
    "test_set = SegDataset(dir_test_img, dir_test_mask)\n",
    "data_module = SegDataModule(train_set, valid_set, test_set, batch_size=16)\n",
    "\n",
    "\n",
    "metrics = torchmetrics.MetricCollection(\n",
    "    torchmetrics.Accuracy(task=\"binary\", num_classes=1, multiclass=False),\n",
    "    torchmetrics.Recall(task=\"binary\", num_classes=1, multiclass=False),\n",
    "    torchmetrics.Precision(task=\"binary\", num_classes=1, multiclass=False),\n",
    "    torchmetrics.F1Score(\n",
    "        task=\"binary\", num_classes=1, multiclass=False\n",
    "    ),  # Dice Coefficient\n",
    ")\n",
    "\n",
    "train_metrics = torchmetrics.MetricTracker(metrics)\n",
    "val_metrics = torchmetrics.MetricTracker(metrics)\n",
    "test_metrics = torchmetrics.MetricTracker(metrics)"
   ]
  },
  {
   "cell_type": "markdown",
   "metadata": {},
   "source": [
    "## Models\n"
   ]
  },
  {
   "cell_type": "code",
   "execution_count": 2,
   "metadata": {},
   "outputs": [
    {
     "name": "stderr",
     "output_type": "stream",
     "text": [
      "/home/emilia/.local/lib/python3.10/site-packages/tqdm/auto.py:22: TqdmWarning: IProgress not found. Please update jupyter and ipywidgets. See https://ipywidgets.readthedocs.io/en/stable/user_install.html\n",
      "  from .autonotebook import tqdm as notebook_tqdm\n"
     ]
    }
   ],
   "source": [
    "import segmentation_models_pytorch as smp\n",
    "from segnet.SegNet_model import *\n",
    "\n",
    "Unet_model = smp.Unet(\n",
    "    encoder_name=\"resnet34\",\n",
    "    encoder_weights=\"imagenet\",\n",
    "    in_channels=3,\n",
    "    classes=1,\n",
    "    activation=None,\n",
    ")\n",
    "\n",
    "Unet_plus_plus_model = smp.UnetPlusPlus(\n",
    "    encoder_name=\"resnet34\",\n",
    "    encoder_weights=\"imagenet\",\n",
    "    in_channels=3,\n",
    "    classes=1,\n",
    "    activation=None,\n",
    ")\n",
    "\n",
    "FPN_model = smp.FPN(\n",
    "    encoder_name=\"resnet34\",\n",
    "    encoder_weights=\"imagenet\",\n",
    "    in_channels=3,\n",
    "    classes=1,\n",
    "    activation=None,\n",
    ")\n",
    "\n",
    "SegNet_model = SegNet(\n",
    "    n_channels=3,\n",
    "    n_classes=1,\n",
    ")\n",
    "\n",
    "models = {\n",
    "    \"Unet\": Unet_model,\n",
    "    \"Unetplusplus\": Unet_plus_plus_model,\n",
    "    \"FPN\": FPN_model,\n",
    "    \"SegNet\": SegNet_model,\n",
    "}"
   ]
  },
  {
   "cell_type": "markdown",
   "metadata": {},
   "source": []
  },
  {
   "cell_type": "code",
   "execution_count": 4,
   "metadata": {},
   "outputs": [
    {
     "name": "stderr",
     "output_type": "stream",
     "text": [
      "Using 16bit native Automatic Mixed Precision (AMP)\n",
      "GPU available: True, used: True\n",
      "TPU available: False, using: 0 TPU cores\n",
      "IPU available: False, using: 0 IPUs\n",
      "/home/emilia/.local/lib/python3.10/site-packages/pytorch_lightning/core/datamodule.py:469: LightningDeprecationWarning: DataModule.setup has already been called, so it will not be called again. In v1.6 this behavior will change to always call DataModule.setup.\n",
      "  rank_zero_deprecation(\n",
      "Restoring states from the checkpoint path at /home/emilia/WaterSegNet/checkpoints/checkpoints_satelite/model-unet_resnet34_adam_padded_b16-v1.ckpt\n",
      "LOCAL_RANK: 0 - CUDA_VISIBLE_DEVICES: [0]\n"
     ]
    },
    {
     "name": "stdout",
     "output_type": "stream",
     "text": [
      "Satelite\n"
     ]
    },
    {
     "name": "stderr",
     "output_type": "stream",
     "text": [
      "Loaded model weights from checkpoint at /home/emilia/WaterSegNet/checkpoints/checkpoints_satelite/model-unet_resnet34_adam_padded_b16-v1.ckpt\n"
     ]
    },
    {
     "name": "stdout",
     "output_type": "stream",
     "text": [
      "Testing: 100%|██████████| 55/55 [00:03<00:00, 15.26it/s]"
     ]
    },
    {
     "name": "stderr",
     "output_type": "stream",
     "text": [
      "/home/emilia/.local/lib/python3.10/site-packages/pytorch_lightning/core/datamodule.py:469: LightningDeprecationWarning: DataModule.teardown has already been called, so it will not be called again. In v1.6 this behavior will change to always call DataModule.teardown.\n",
      "  rank_zero_deprecation(\n",
      "Using 16bit native Automatic Mixed Precision (AMP)\n",
      "GPU available: True, used: True\n",
      "TPU available: False, using: 0 TPU cores\n",
      "IPU available: False, using: 0 IPUs\n",
      "Restoring states from the checkpoint path at /home/emilia/WaterSegNet/checkpoints/checkpoints_padded/model-unet_resnet34_adam_padded_b16.ckpt\n"
     ]
    },
    {
     "name": "stdout",
     "output_type": "stream",
     "text": [
      "\n",
      "[{'test_loss': 6.0772199630737305, 'test.Accuracy': 0.546023964881897, 'test.Recall': 0.546023964881897, 'test.Precision': 0.5452755689620972, 'test.F1Score': 0.5456397533416748}]\n",
      "UAV\n"
     ]
    },
    {
     "name": "stderr",
     "output_type": "stream",
     "text": [
      "LOCAL_RANK: 0 - CUDA_VISIBLE_DEVICES: [0]\n",
      "Loaded model weights from checkpoint at /home/emilia/WaterSegNet/checkpoints/checkpoints_padded/model-unet_resnet34_adam_padded_b16.ckpt\n"
     ]
    },
    {
     "name": "stdout",
     "output_type": "stream",
     "text": [
      "Testing: 100%|██████████| 55/55 [00:03<00:00, 15.06it/s]"
     ]
    },
    {
     "name": "stderr",
     "output_type": "stream",
     "text": [
      "Using 16bit native Automatic Mixed Precision (AMP)\n",
      "GPU available: True, used: True\n",
      "TPU available: False, using: 0 TPU cores\n",
      "IPU available: False, using: 0 IPUs\n",
      "Restoring states from the checkpoint path at /home/emilia/WaterSegNet/checkpoints/checkpoints_full/model-unet_resnet34_adam_padded_b16.ckpt\n"
     ]
    },
    {
     "name": "stdout",
     "output_type": "stream",
     "text": [
      "\n",
      "[{'test_loss': 0.0818043202161789, 'test.Accuracy': 0.6340163946151733, 'test.Recall': 0.6340163946151733, 'test.Precision': 0.6330986022949219, 'test.F1Score': 0.6335493326187134}]\n",
      "FULL\n"
     ]
    },
    {
     "name": "stderr",
     "output_type": "stream",
     "text": [
      "LOCAL_RANK: 0 - CUDA_VISIBLE_DEVICES: [0]\n",
      "Loaded model weights from checkpoint at /home/emilia/WaterSegNet/checkpoints/checkpoints_full/model-unet_resnet34_adam_padded_b16.ckpt\n"
     ]
    },
    {
     "name": "stdout",
     "output_type": "stream",
     "text": [
      "Testing: 100%|██████████| 55/55 [00:03<00:00, 15.45it/s]\n",
      "[{'test_loss': 0.09656822681427002, 'test.Accuracy': 0.6935898661613464, 'test.Recall': 0.6935898661613464, 'test.Precision': 0.6894514560699463, 'test.F1Score': 0.6914964914321899}]\n"
     ]
    }
   ],
   "source": [
    "from lib.train import *\n",
    "import segmentation_models_pytorch as smp\n",
    "from pytorch_lightning.callbacks import ModelCheckpoint, EarlyStopping\n",
    "from pytorch_lightning import Trainer\n",
    "\n",
    "\n",
    "model_name = \"Unet\"\n",
    "model = models[model_name]\n",
    "\n",
    "seg_model = SegModel(\n",
    "    model,\n",
    "    lr=1e-3,\n",
    "    optimizer_type=\"adam\",\n",
    "    train_metrics=train_metrics,\n",
    "    val_metrics=val_metrics,\n",
    "    test_metrics=test_metrics,\n",
    "    freeze_encoder=False,\n",
    ")\n",
    "\n",
    "\n",
    "checkpoints = {\n",
    "    \"Satelite\": \"/home/emilia/WaterSegNet/checkpoints/checkpoints_satelite/model-unet_resnet34_adam_padded_b16-v1.ckpt\",\n",
    "    \"UAV\": \"/home/emilia/WaterSegNet/checkpoints/checkpoints_padded/model-unet_resnet34_adam_padded_b16.ckpt\",\n",
    "    \"FULL\": \"/home/emilia/WaterSegNet/checkpoints/checkpoints_full/model-unet_resnet34_adam_padded_b16.ckpt\",\n",
    "}\n",
    "\n",
    "for i in checkpoints:\n",
    "    tb_logger = TensorBoardLogger(\"lightning_logs/test/\", name=(model_name + \"_\" + i))\n",
    "\n",
    "    trainer = Trainer(\n",
    "        max_epochs=200,\n",
    "        gpus=1 if torch.cuda.is_available() else 0,\n",
    "        logger=tb_logger,\n",
    "        precision=16,  # Mixed precision training\n",
    "    )\n",
    "    print(i)\n",
    "    results = trainer.test(\n",
    "        seg_model,\n",
    "        ckpt_path=checkpoints[i],\n",
    "        datamodule=data_module,\n",
    "        verbose=False,\n",
    "    )\n",
    "    print(results)"
   ]
  },
  {
   "cell_type": "code",
   "execution_count": null,
   "metadata": {},
   "outputs": [],
   "source": []
  }
 ],
 "metadata": {
  "kernelspec": {
   "display_name": "Python 3",
   "language": "python",
   "name": "python3"
  },
  "language_info": {
   "codemirror_mode": {
    "name": "ipython",
    "version": 3
   },
   "file_extension": ".py",
   "mimetype": "text/x-python",
   "name": "python",
   "nbconvert_exporter": "python",
   "pygments_lexer": "ipython3",
   "version": "3.10.12"
  }
 },
 "nbformat": 4,
 "nbformat_minor": 2
}
